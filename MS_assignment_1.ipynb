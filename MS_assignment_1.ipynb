{
  "cells": [
    {
      "metadata": {
        "collapsed": true
      },
      "cell_type": "markdown",
      "source": "## 数理統計学(2019)　課題1\n\n### このnotebookには、いくつかの課題が記載されています。\n### 先頭から順番に、指示に従ってPython Codeをcellに記述してください。\n### codeを記述するcellは、各自適切に生成してください。\n\n### 課題提出方法\n#### 各自のGitHubに、学籍番号_MS1（たとえば、C180001_MS1)という名称のrepositoryを作成してください。\n#### このnotebookを各自のGitHubのリポジトリ（学籍番号_MS1)へコピーしてください。\n#### 各自のGitHubのリポジトリをoffice 365のメールアカウントを使用して、sugimura@ccg.ac.jpへ送信してください。メールの件名は、学籍番号_MS1としてください。\n##### 【重要】指定された方法で課題を提出することも課題に含まれています。"
    },
    {
      "metadata": {},
      "cell_type": "markdown",
      "source": "#### 第1問：Pythonにおいて数値計算を行うためのモジュルnumpyをインポートし、numpy数値計算ライブラリを利用できるように設定してください。\n"
    },
    {
      "metadata": {
        "trusted": true
      },
      "cell_type": "code",
      "source": "import numpy as np\n\n",
      "execution_count": 37,
      "outputs": []
    },
    {
      "metadata": {},
      "cell_type": "markdown",
      "source": "#### 第2問：numpyのメソッドnumpy.random.normal(avg, std, n)は、平均がavg、標準偏差がstdである正規分布に従う乱数をn個発生させることができます。このメソッドを使用して、平均=60、標準偏差=15、個数=50である乱数からなるリストA1を発生させ、画面に表示させてください。\n"
    },
    {
      "metadata": {
        "trusted": true
      },
      "cell_type": "code",
      "source": "A1=np.random.normal(60,15,50)\nA1",
      "execution_count": 39,
      "outputs": [
        {
          "output_type": "execute_result",
          "execution_count": 39,
          "data": {
            "text/plain": "array([43.88028471, 44.81024035, 79.98675561, 76.92587293, 65.85987786,\n       65.88097731, 43.29602252, 57.72998934, 61.50305966, 71.58638903,\n       40.85006151, 45.51660382, 54.11083648, 57.92234409, 41.32791896,\n       63.87002632, 53.65389503, 73.81181288, 56.38766004, 71.91424147,\n       43.48843419, 70.88129523, 76.91188682, 39.9449905 , 66.50377633,\n       53.29832083, 78.03640035, 25.21379194, 88.90635847, 49.49214319,\n       66.19164173, 63.14034285, 57.82216315, 44.65684866, 69.26664011,\n       79.37691247, 61.11556646, 51.93470202, 62.86782907, 63.2343529 ,\n       59.45386233, 61.72849298, 86.67808861, 49.69512693, 63.06957526,\n       51.81038775, 37.83161363, 65.64950495, 80.49180992, 63.66700326])"
          },
          "metadata": {}
        }
      ]
    },
    {
      "metadata": {},
      "cell_type": "markdown",
      "source": "#### 第3問：第2問で発生させた乱数を整数に変換して、50個の整数のリストA2を発生させ、画面に表示させてください。\n#### Pythonのint関数は、データを整数へ変換することができます。xが実数であるとき、int(x)は、xを丸めた整数型の数値を返します。\n#### なお、リスト内包表記を用いると、コードを簡単化することができます。"
    },
    {
      "metadata": {
        "trusted": true
      },
      "cell_type": "code",
      "source": "A2=[60,15,50]\nprint(A2)\nA2[:2]\nlen(A2)\n",
      "execution_count": 34,
      "outputs": [
        {
          "output_type": "stream",
          "text": "[60, 15, 50]\n",
          "name": "stdout"
        },
        {
          "output_type": "execute_result",
          "execution_count": 34,
          "data": {
            "text/plain": "3"
          },
          "metadata": {}
        }
      ]
    },
    {
      "metadata": {},
      "cell_type": "markdown",
      "source": "#### 第3問：以下の整数型リストB1の要素の平均値を計算して、画面に表示させてください。\n\n##### なお、平均値は、\n\n$$平均値　= \\frac{リスト中の要素の合計}{リスト中の要素の個数}$$\n\n##### によって計算してください。\n\nB1 = [80, 84, 41, 58, 87, 75, 61, 103, 52, 86, 91, 58, 53, 40, 56, 55, 57, 43, 60, 61, 61, 46, 99, 48, 58, \n      72, 52, 75, 71, 60, 54, 60, 64, 38, 56, 57, 78, 55, 53, 28, 67, 86, 75, 73, 82, 86, 65, 26, 59, 24]"
    },
    {
      "metadata": {
        "trusted": true
      },
      "cell_type": "code",
      "source": "B1 = [80, 84, 41, 58, 87, 75, 61, 103, 52, 86, 91, 58, 53, 40, 56, 55, 57, 43, 60, 61, 61, 46, 99, 48, 58, \n      72, 52, 75, 71, 60, 54, 60, 64, 38, 56, 57, 78, 55, 53, 28, 67, 86, 75, 73, 82, 86, 65, 26, 59, 24]\na=sum(B1)%len(B1)\nprint(a)\n\n",
      "execution_count": 7,
      "outputs": [
        {
          "output_type": "stream",
          "text": "29\n",
          "name": "stdout"
        }
      ]
    },
    {
      "metadata": {},
      "cell_type": "markdown",
      "source": "#### 第4問：整数型リストB1の要素の中の最大値を求めるコードを記述し、max(B1)の結果と一致することを確認してください。"
    },
    {
      "metadata": {
        "trusted": true
      },
      "cell_type": "code",
      "source": "B1 = [80, 84, 41, 58, 87, 75, 61, 103, 52, 86, 91, 58, 53, 40, 56, 55, 57, 43, 60, 61, 61, 46, 99, 48, 58, \n      72, 52, 75, 71, 60, 54, 60, 64, 38, 56, 57, 78, 55, 53, 28, 67, 86, 75, 73, 82, 86, 65, 26, 59, 24]\nmax_data =-100\nfor i in B1:\n    if i>max_data:\n        max_data=i\nif (max_data==-100):\n        print('error')\nelse:\n        print('最大直は', max_data,'です')\n                \nif max_data==max(B1):\n        print(\"OK\")\nelse:\n        print(\"NG\")",
      "execution_count": 16,
      "outputs": [
        {
          "output_type": "stream",
          "text": "最大直は 103 です\nOK\n",
          "name": "stdout"
        }
      ]
    }
  ],
  "metadata": {
    "kernelspec": {
      "name": "python36",
      "display_name": "Python 3.6",
      "language": "python"
    },
    "language_info": {
      "mimetype": "text/x-python",
      "nbconvert_exporter": "python",
      "name": "python",
      "pygments_lexer": "ipython3",
      "version": "3.6.6",
      "file_extension": ".py",
      "codemirror_mode": {
        "version": 3,
        "name": "ipython"
      }
    }
  },
  "nbformat": 4,
  "nbformat_minor": 2
}